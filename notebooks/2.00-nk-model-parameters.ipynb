{
 "cells": [
  {
   "cell_type": "code",
   "execution_count": 1,
   "metadata": {},
   "outputs": [],
   "source": [
    "%reload_ext autoreload\n",
    "%autoreload 2"
   ]
  },
  {
   "cell_type": "markdown",
   "metadata": {},
   "source": [
    "# 2.00: Model Parameter Count\n",
    "\n",
    "We attempt to recreate the parameter count from 'Membership Inference Attacks on Diffusion Models via Quantile Regression'\n",
    "\n",
    "| OUTPUT CHANNELS OF THE FIRST CONVOLUTIONAL LAYER | TOTAL NUMBER OF PARAMETERS |\n",
    "|--------------------------------------------------|----------------------------|\n",
    "| 1                                                | 5.6×10³                     |\n",
    "| 2                                                | 2.0×10⁴                     |\n",
    "| 4                                                | 8.0×10⁴                     |"
   ]
  },
  {
   "cell_type": "code",
   "execution_count": 16,
   "metadata": {},
   "outputs": [
    {
     "name": "stdout",
     "output_type": "stream",
     "text": [
      "The number of parameters in model[0]: 5628\n"
     ]
    }
   ],
   "source": [
    "from quantile_diffusion_mia.modeling.resnet import ResNet18\n",
    "\n",
    "OUTPUT_CHANNELS = 1\n",
    "\n",
    "channel_reduce = 64 / OUTPUT_CHANNELS\n",
    "model = ResNet18(in_channels=6, channel_reduce=channel_reduce, num_classes=300)\n",
    "\n",
    "# Count the number of parameters in model[0]\n",
    "num_params = sum(p.numel() for p in model.parameters())\n",
    "print(f'The number of parameters in model[0]: {num_params}')"
   ]
  }
 ],
 "metadata": {
  "kernelspec": {
   "display_name": "qmiaenv",
   "language": "python",
   "name": "python3"
  },
  "language_info": {
   "codemirror_mode": {
    "name": "ipython",
    "version": 3
   },
   "file_extension": ".py",
   "mimetype": "text/x-python",
   "name": "python",
   "nbconvert_exporter": "python",
   "pygments_lexer": "ipython3",
   "version": "3.12.7"
  }
 },
 "nbformat": 4,
 "nbformat_minor": 2
}
