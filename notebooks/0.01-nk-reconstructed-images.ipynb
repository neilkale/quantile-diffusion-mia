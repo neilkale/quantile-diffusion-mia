{
 "cells": [
  {
   "cell_type": "code",
   "execution_count": 104,
   "metadata": {},
   "outputs": [],
   "source": [
    "%reload_ext autoreload\n",
    "%autoreload 2"
   ]
  },
  {
   "cell_type": "markdown",
   "metadata": {},
   "source": [
    "# 0.01: Reconstructed Images\n",
    "\n",
    "We visualize the reconstructed images and t-error. First, we load the data, and output the sizes."
   ]
  },
  {
   "cell_type": "code",
   "execution_count": 105,
   "metadata": {},
   "outputs": [],
   "source": [
    "from quantile_diffusion_mia.config import DATASET_CONFIG\n",
    "\n",
    "dataset = \"CIFAR10\"\n",
    "config = DATASET_CONFIG[dataset]"
   ]
  },
  {
   "cell_type": "code",
   "execution_count": 106,
   "metadata": {},
   "outputs": [],
   "source": [
    "import torch\n",
    "from quantile_diffusion_mia.dataset import QuantileRegressionDataset\n",
    "\n",
    "data_dir = \"../\" + config[\"quantile_regression_data_path\"]\n",
    "dataset = QuantileRegressionDataset.load(data_dir)"
   ]
  },
  {
   "cell_type": "code",
   "execution_count": 107,
   "metadata": {},
   "outputs": [
    {
     "name": "stdout",
     "output_type": "stream",
     "text": [
      "Original Images Shape: torch.Size([50000, 3, 32, 32])\n",
      "Reconstructed Images Shape: torch.Size([50000, 3, 32, 32])\n",
      "T-Errors Shape: torch.Size([50000])\n",
      "Labels Shape: 50000\n"
     ]
    }
   ],
   "source": [
    "print(\"Original Images Shape:\", dataset.original_images.shape)\n",
    "print(\"Reconstructed Images Shape:\", dataset.reconstructed_images.shape)\n",
    "print(\"T-Errors Shape:\", dataset.t_errors.shape)\n",
    "print(\"Labels Shape:\", len(dataset.labels))"
   ]
  },
  {
   "cell_type": "code",
   "execution_count": 108,
   "metadata": {},
   "outputs": [
    {
     "name": "stderr",
     "output_type": "stream",
     "text": [
      "Clipping input data to the valid range for imshow with RGB data ([0..1] for floats or [0..255] for integers). Got range [0.018054008..1.1716208].\n",
      "Clipping input data to the valid range for imshow with RGB data ([0..1] for floats or [0..255] for integers). Got range [0.018069327..1.1716022].\n"
     ]
    },
    {
     "name": "stdout",
     "output_type": "stream",
     "text": [
      "The t_error is: 1.5672769e-10\n",
      "The label is: nonmember\n"
     ]
    },
    {
     "data": {
      "image/png": "[encoded data removed]",
      "text/plain": [
       "<Figure size 500x200 with 2 Axes>"
      ]
     },
     "metadata": {},
     "output_type": "display_data"
    }
   ],
   "source": [
    "import numpy as np\n",
    "\n",
    "import matplotlib.pyplot as plt\n",
    "\n",
    "# Select a random index\n",
    "random_index = np.random.randint(0, len(dataset.original_images))\n",
    "\n",
    "# Get the images and t-error\n",
    "original_image = dataset.original_images[random_index]\n",
    "reconstructed_image = dataset.reconstructed_images[random_index]\n",
    "t_error = dataset.t_errors[random_index].cpu().numpy()\n",
    "label = dataset.labels[random_index]\n",
    "\n",
    "# Rescale the images\n",
    "original_image = (original_image + 1) / 2\n",
    "reconstructed_image =  (reconstructed_image + 1) / 2\n",
    "\n",
    "# Plot the images and t-error\n",
    "fig, axes = plt.subplots(1,2, figsize=(5, 2))\n",
    "\n",
    "axes[0].imshow(original_image.permute(1, 2, 0).cpu())  # Assuming the image is in (C, H, W) format\n",
    "axes[0].set_title('Original Image')\n",
    "axes[0].axis('off')\n",
    "\n",
    "axes[1].imshow(reconstructed_image.permute(1, 2, 0).cpu())  # Assuming the image is in (C, H, W) format\n",
    "axes[1].set_title('Reconstructed Image')\n",
    "axes[1].axis('off')\n",
    "\n",
    "print(\"The t_error is:\", t_error)\n",
    "print(\"The label is:\", label)\n",
    "plt.show()"
   ]
  }
 ],
 "metadata": {
  "kernelspec": {
   "display_name": "qmiaenv",
   "language": "python",
   "name": "python3"
  },
  "language_info": {
   "codemirror_mode": {
    "name": "ipython",
    "version": 3
   },
   "file_extension": ".py",
   "mimetype": "text/x-python",
   "name": "python",
   "nbconvert_exporter": "python",
   "pygments_lexer": "ipython3",
   "version": "3.12.7"
  }
 },
 "nbformat": 4,
 "nbformat_minor": 2
}
