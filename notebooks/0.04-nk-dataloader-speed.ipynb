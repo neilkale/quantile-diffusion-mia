{
 "cells": [
  {
   "cell_type": "code",
   "execution_count": 8,
   "metadata": {},
   "outputs": [],
   "source": [
    "%reload_ext autoreload\n",
    "%autoreload 2"
   ]
  },
  {
   "cell_type": "markdown",
   "metadata": {},
   "source": [
    "# 0.04: Dataloader Speed Test\n",
    "\n",
    "We test the speed of the dataloader to determine the optimal number of workers."
   ]
  },
  {
   "cell_type": "code",
   "execution_count": 2,
   "metadata": {},
   "outputs": [],
   "source": [
    "import torch\n",
    "import numpy as np\n",
    "from quantile_diffusion_mia.dataset import QuantileRegressionDataset\n",
    "from quantile_diffusion_mia.config import DATASET_CONFIG, MODEL_CONFIG\n",
    "from torch.utils.data import DataLoader\n",
    "\n",
    "dataset_name = \"CIFAR10\"\n",
    "config = DATASET_CONFIG[dataset_name]\n",
    "\n",
    "# Load the train indices\n",
    "split_path = \"../\" + config['quantile_regression_split_path']\n",
    "output = np.load(split_path)\n",
    "quantile_train_indices = output['quantile_train_indices']\n",
    "\n",
    "# Load the dataset\n",
    "data_path = \"../\" + config['quantile_regression_data_path']\n",
    "train_dataset = QuantileRegressionDataset.load(data_path)\n",
    "train_dataset.set_indices(quantile_train_indices)"
   ]
  },
  {
   "cell_type": "code",
   "execution_count": null,
   "metadata": {},
   "outputs": [
    {
     "name": "stdout",
     "output_type": "stream",
     "text": [
      "num_workers=0, Time: 0.0357s\n",
      "num_workers=2, Time: 0.6411s\n",
      "num_workers=4, Time: 0.8507s\n",
      "num_workers=8, Time: 1.2934s\n",
      "num_workers=16, Time: 2.6478s\n"
     ]
    }
   ],
   "source": [
    "import time\n",
    "\n",
    "def test_num_workers(dataset, batch_size=64, num_worker_values=[0, 2, 4, 8, 16]):\n",
    "    timings = {}\n",
    "    for num_workers in num_worker_values:\n",
    "        loader = DataLoader(dataset, batch_size=batch_size, num_workers=num_workers, shuffle=True)\n",
    "        start_time = time.time()\n",
    "        for _ in range(5):  # Load a few batches to get an average time\n",
    "            _ = next(iter(loader))\n",
    "        timings[num_workers] = time.time() - start_time\n",
    "        print(f'num_workers={num_workers}, Time: {timings[num_workers]:.4f}s')\n",
    "    return timings\n",
    "\n",
    "# Usage: pass your dataset to test_num_workers function\n",
    "timings = test_num_workers(train_dataset)"
   ]
  }
 ],
 "metadata": {
  "kernelspec": {
   "display_name": "qmiaenv",
   "language": "python",
   "name": "python3"
  },
  "language_info": {
   "codemirror_mode": {
    "name": "ipython",
    "version": 3
   },
   "file_extension": ".py",
   "mimetype": "text/x-python",
   "name": "python",
   "nbconvert_exporter": "python",
   "pygments_lexer": "ipython3",
   "version": "3.12.7"
  }
 },
 "nbformat": 4,
 "nbformat_minor": 2
}
